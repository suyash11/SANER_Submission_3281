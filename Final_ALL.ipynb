{
 "cells": [
  {
   "cell_type": "code",
   "execution_count": 1,
   "id": "325da0fe",
   "metadata": {},
   "outputs": [],
   "source": [
    "#removing outliers from dataframe using IQR method\n",
    "import pandas as pd\n",
    "import numpy as np\n",
    "import matplotlib.pyplot as plt"
   ]
  },
  {
   "cell_type": "code",
   "execution_count": 2,
   "id": "d3adbe02",
   "metadata": {},
   "outputs": [],
   "source": [
    "import warnings\n",
    "warnings.filterwarnings('ignore')\n",
    "warnings.simplefilter('ignore')"
   ]
  },
  {
   "cell_type": "code",
   "execution_count": 3,
   "id": "303e7417",
   "metadata": {},
   "outputs": [],
   "source": [
    "df_data = pd.read_csv('China.csv',  header=0)"
   ]
  },
  {
   "cell_type": "code",
   "execution_count": 4,
   "id": "417b9068",
   "metadata": {},
   "outputs": [
    {
     "data": {
      "text/html": [
       "<div>\n",
       "<style scoped>\n",
       "    .dataframe tbody tr th:only-of-type {\n",
       "        vertical-align: middle;\n",
       "    }\n",
       "\n",
       "    .dataframe tbody tr th {\n",
       "        vertical-align: top;\n",
       "    }\n",
       "\n",
       "    .dataframe thead th {\n",
       "        text-align: right;\n",
       "    }\n",
       "</style>\n",
       "<table border=\"1\" class=\"dataframe\">\n",
       "  <thead>\n",
       "    <tr style=\"text-align: right;\">\n",
       "      <th></th>\n",
       "      <th>AFP</th>\n",
       "      <th>Input</th>\n",
       "      <th>Output</th>\n",
       "      <th>Enquiry</th>\n",
       "      <th>File</th>\n",
       "      <th>Interface</th>\n",
       "      <th>Added</th>\n",
       "      <th>Changed</th>\n",
       "      <th>Deleted</th>\n",
       "      <th>PDR_AFP</th>\n",
       "      <th>PDR_UFP</th>\n",
       "      <th>NPDR_AFP</th>\n",
       "      <th>NPDU_UFP</th>\n",
       "      <th>Resource</th>\n",
       "      <th>Dev.Type</th>\n",
       "      <th>Duration</th>\n",
       "      <th>N_effort</th>\n",
       "      <th>Effort</th>\n",
       "    </tr>\n",
       "  </thead>\n",
       "  <tbody>\n",
       "    <tr>\n",
       "      <th>0</th>\n",
       "      <td>1587</td>\n",
       "      <td>774</td>\n",
       "      <td>260</td>\n",
       "      <td>340</td>\n",
       "      <td>128</td>\n",
       "      <td>0</td>\n",
       "      <td>1502</td>\n",
       "      <td>0</td>\n",
       "      <td>0</td>\n",
       "      <td>4.7</td>\n",
       "      <td>5.0</td>\n",
       "      <td>4.7</td>\n",
       "      <td>5.0</td>\n",
       "      <td>4</td>\n",
       "      <td>0</td>\n",
       "      <td>4.0</td>\n",
       "      <td>7490</td>\n",
       "      <td>7490</td>\n",
       "    </tr>\n",
       "    <tr>\n",
       "      <th>1</th>\n",
       "      <td>260</td>\n",
       "      <td>9</td>\n",
       "      <td>4</td>\n",
       "      <td>3</td>\n",
       "      <td>193</td>\n",
       "      <td>41</td>\n",
       "      <td>51</td>\n",
       "      <td>138</td>\n",
       "      <td>61</td>\n",
       "      <td>16.0</td>\n",
       "      <td>16.6</td>\n",
       "      <td>16.0</td>\n",
       "      <td>16.6</td>\n",
       "      <td>2</td>\n",
       "      <td>0</td>\n",
       "      <td>17.0</td>\n",
       "      <td>4150</td>\n",
       "      <td>4150</td>\n",
       "    </tr>\n",
       "    <tr>\n",
       "      <th>2</th>\n",
       "      <td>152</td>\n",
       "      <td>25</td>\n",
       "      <td>33</td>\n",
       "      <td>28</td>\n",
       "      <td>42</td>\n",
       "      <td>35</td>\n",
       "      <td>163</td>\n",
       "      <td>0</td>\n",
       "      <td>0</td>\n",
       "      <td>4.4</td>\n",
       "      <td>4.1</td>\n",
       "      <td>4.4</td>\n",
       "      <td>4.1</td>\n",
       "      <td>1</td>\n",
       "      <td>0</td>\n",
       "      <td>9.0</td>\n",
       "      <td>668</td>\n",
       "      <td>668</td>\n",
       "    </tr>\n",
       "    <tr>\n",
       "      <th>3</th>\n",
       "      <td>252</td>\n",
       "      <td>151</td>\n",
       "      <td>28</td>\n",
       "      <td>8</td>\n",
       "      <td>39</td>\n",
       "      <td>0</td>\n",
       "      <td>69</td>\n",
       "      <td>153</td>\n",
       "      <td>4</td>\n",
       "      <td>12.8</td>\n",
       "      <td>14.3</td>\n",
       "      <td>15.5</td>\n",
       "      <td>17.3</td>\n",
       "      <td>1</td>\n",
       "      <td>0</td>\n",
       "      <td>4.0</td>\n",
       "      <td>3901</td>\n",
       "      <td>3238</td>\n",
       "    </tr>\n",
       "    <tr>\n",
       "      <th>4</th>\n",
       "      <td>292</td>\n",
       "      <td>93</td>\n",
       "      <td>0</td>\n",
       "      <td>194</td>\n",
       "      <td>20</td>\n",
       "      <td>0</td>\n",
       "      <td>0</td>\n",
       "      <td>307</td>\n",
       "      <td>0</td>\n",
       "      <td>10.3</td>\n",
       "      <td>9.8</td>\n",
       "      <td>12.4</td>\n",
       "      <td>11.7</td>\n",
       "      <td>1</td>\n",
       "      <td>0</td>\n",
       "      <td>13.0</td>\n",
       "      <td>3607</td>\n",
       "      <td>2994</td>\n",
       "    </tr>\n",
       "  </tbody>\n",
       "</table>\n",
       "</div>"
      ],
      "text/plain": [
       "    AFP  Input  Output  Enquiry  File  Interface  Added  Changed  Deleted  \\\n",
       "0  1587    774     260      340   128          0   1502        0        0   \n",
       "1   260      9       4        3   193         41     51      138       61   \n",
       "2   152     25      33       28    42         35    163        0        0   \n",
       "3   252    151      28        8    39          0     69      153        4   \n",
       "4   292     93       0      194    20          0      0      307        0   \n",
       "\n",
       "   PDR_AFP  PDR_UFP  NPDR_AFP  NPDU_UFP  Resource  Dev.Type  Duration  \\\n",
       "0      4.7      5.0       4.7       5.0         4         0       4.0   \n",
       "1     16.0     16.6      16.0      16.6         2         0      17.0   \n",
       "2      4.4      4.1       4.4       4.1         1         0       9.0   \n",
       "3     12.8     14.3      15.5      17.3         1         0       4.0   \n",
       "4     10.3      9.8      12.4      11.7         1         0      13.0   \n",
       "\n",
       "   N_effort  Effort  \n",
       "0      7490    7490  \n",
       "1      4150    4150  \n",
       "2       668     668  \n",
       "3      3901    3238  \n",
       "4      3607    2994  "
      ]
     },
     "execution_count": 4,
     "metadata": {},
     "output_type": "execute_result"
    }
   ],
   "source": [
    "df_data.head()"
   ]
  },
  {
   "cell_type": "code",
   "execution_count": 5,
   "id": "e9cc3e89",
   "metadata": {
    "scrolled": true
   },
   "outputs": [
    {
     "data": {
      "text/plain": [
       "(499, 18)"
      ]
     },
     "execution_count": 5,
     "metadata": {},
     "output_type": "execute_result"
    }
   ],
   "source": [
    "df_data.shape"
   ]
  },
  {
   "cell_type": "code",
   "execution_count": 6,
   "id": "1b6cd7e1",
   "metadata": {},
   "outputs": [],
   "source": [
    "X = df_data.iloc[:,0:17]\n",
    "y = df_data.iloc[:,17:18]"
   ]
  },
  {
   "cell_type": "code",
   "execution_count": 7,
   "id": "cf0ef4c3",
   "metadata": {},
   "outputs": [],
   "source": [
    "# evaluate model performance with outliers removed using isolation forest\n",
    "from sklearn.model_selection import train_test_split\n",
    "from sklearn.tree import DecisionTreeRegressor\n",
    "from sklearn.ensemble import RandomForestRegressor\n",
    "from sklearn.neighbors import KNeighborsRegressor\n",
    "from sklearn.linear_model import LinearRegression\n",
    "from sklearn.svm import LinearSVR\n",
    "from sklearn.linear_model import Lasso\n",
    "from sklearn.linear_model import Ridge\n",
    "from sklearn.model_selection import KFold\n",
    "from sklearn.model_selection import cross_val_score\n",
    "from sklearn.model_selection import cross_val_predict\n",
    "from sklearn.metrics import mean_absolute_error\n",
    "from sklearn.metrics import mean_squared_error\n",
    "from sklearn.model_selection import LeaveOneOut"
   ]
  },
  {
   "cell_type": "markdown",
   "id": "f6e02b16",
   "metadata": {},
   "source": [
    "# Models"
   ]
  },
  {
   "cell_type": "code",
   "execution_count": 8,
   "id": "54caaf58",
   "metadata": {},
   "outputs": [],
   "source": [
    "lr = LinearRegression(fit_intercept = True, normalize = True, copy_X = True)\n",
    "lasso = Lasso(alpha = 100)\n",
    "ridge = Ridge(alpha = 100)\n",
    "knn = KNeighborsRegressor(metric = 'euclidean', n_neighbors = 8, weights = 'uniform')\n",
    "dt = DecisionTreeRegressor(max_depth = 9, min_samples_split = 2, random_state = 11)\n",
    "rf = RandomForestRegressor(max_depth = 5, n_estimators = 40, random_state = 1)\n",
    "svr = LinearSVR(C = 0.1, epsilon = 1, random_state = 1)\n",
    "models = [lr, lasso, ridge, knn, dt, rf, svr]"
   ]
  },
  {
   "cell_type": "markdown",
   "id": "913e5d23",
   "metadata": {},
   "source": [
    "# Individual Models"
   ]
  },
  {
   "cell_type": "code",
   "execution_count": 9,
   "id": "79baf257",
   "metadata": {
    "scrolled": true
   },
   "outputs": [],
   "source": [
    "MAE_Final, MSE_Final = ([] for i in range(2))\n",
    "for model in models:\n",
    "    cv = LeaveOneOut()\n",
    "    MAE_Fold, MSE_Fold = ([] for i in range(2))\n",
    "    for train_index, test_index in cv.split(X):\n",
    "        X_train, X_test, y_train, y_test = X.values[train_index], X.values[test_index], y.values[train_index], y.values[test_index]\n",
    "        model.fit(X_train, y_train)\n",
    "        y_pred = model.predict(X_test)\n",
    "        MAE_Fold.append(mean_absolute_error(y_test, y_pred))\n",
    "        MSE_Fold.append(mean_squared_error(y_test, y_pred))\n",
    "    MAE_Final.append(np.mean(MAE_Fold))\n",
    "    MSE_Final.append(np.mean(MSE_Fold))"
   ]
  },
  {
   "cell_type": "markdown",
   "id": "8c55483f",
   "metadata": {},
   "source": [
    "# Errors"
   ]
  },
  {
   "cell_type": "code",
   "execution_count": 10,
   "id": "74249852",
   "metadata": {
    "scrolled": true
   },
   "outputs": [
    {
     "data": {
      "text/html": [
       "<div>\n",
       "<style scoped>\n",
       "    .dataframe tbody tr th:only-of-type {\n",
       "        vertical-align: middle;\n",
       "    }\n",
       "\n",
       "    .dataframe tbody tr th {\n",
       "        vertical-align: top;\n",
       "    }\n",
       "\n",
       "    .dataframe thead th {\n",
       "        text-align: right;\n",
       "    }\n",
       "</style>\n",
       "<table border=\"1\" class=\"dataframe\">\n",
       "  <thead>\n",
       "    <tr style=\"text-align: right;\">\n",
       "      <th></th>\n",
       "      <th>MAE</th>\n",
       "      <th>MSE</th>\n",
       "    </tr>\n",
       "  </thead>\n",
       "  <tbody>\n",
       "    <tr>\n",
       "      <th>0</th>\n",
       "      <td>375.995647</td>\n",
       "      <td>1.110549e+06</td>\n",
       "    </tr>\n",
       "    <tr>\n",
       "      <th>1</th>\n",
       "      <td>324.120354</td>\n",
       "      <td>9.894790e+05</td>\n",
       "    </tr>\n",
       "    <tr>\n",
       "      <th>2</th>\n",
       "      <td>347.112299</td>\n",
       "      <td>9.396682e+05</td>\n",
       "    </tr>\n",
       "    <tr>\n",
       "      <th>3</th>\n",
       "      <td>403.006513</td>\n",
       "      <td>1.903173e+06</td>\n",
       "    </tr>\n",
       "    <tr>\n",
       "      <th>4</th>\n",
       "      <td>569.018227</td>\n",
       "      <td>3.895305e+06</td>\n",
       "    </tr>\n",
       "    <tr>\n",
       "      <th>5</th>\n",
       "      <td>425.898757</td>\n",
       "      <td>1.904900e+06</td>\n",
       "    </tr>\n",
       "    <tr>\n",
       "      <th>6</th>\n",
       "      <td>314.657305</td>\n",
       "      <td>1.183064e+06</td>\n",
       "    </tr>\n",
       "  </tbody>\n",
       "</table>\n",
       "</div>"
      ],
      "text/plain": [
       "          MAE           MSE\n",
       "0  375.995647  1.110549e+06\n",
       "1  324.120354  9.894790e+05\n",
       "2  347.112299  9.396682e+05\n",
       "3  403.006513  1.903173e+06\n",
       "4  569.018227  3.895305e+06\n",
       "5  425.898757  1.904900e+06\n",
       "6  314.657305  1.183064e+06"
      ]
     },
     "execution_count": 10,
     "metadata": {},
     "output_type": "execute_result"
    }
   ],
   "source": [
    "df_pred = pd.DataFrame(list(zip(MAE_Final, MSE_Final)),\n",
    "               columns =['MAE', 'MSE'])\n",
    "df_pred.to_csv('Errors.csv', index = False)\n",
    "\n",
    "df_pred"
   ]
  }
 ],
 "metadata": {
  "kernelspec": {
   "display_name": "Python 3 (ipykernel)",
   "language": "python",
   "name": "python3"
  },
  "language_info": {
   "codemirror_mode": {
    "name": "ipython",
    "version": 3
   },
   "file_extension": ".py",
   "mimetype": "text/x-python",
   "name": "python",
   "nbconvert_exporter": "python",
   "pygments_lexer": "ipython3",
   "version": "3.9.7"
  }
 },
 "nbformat": 4,
 "nbformat_minor": 5
}
